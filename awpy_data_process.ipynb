{
 "cells": [
  {
   "cell_type": "markdown",
   "metadata": {},
   "source": [
    "# Methods needed to summarize AWPY data"
   ]
  },
  {
   "cell_type": "code",
   "execution_count": 2,
   "metadata": {},
   "outputs": [],
   "source": [
    "from awpy import DemoParser\n",
    "from awpy.analytics.states import generate_game_state\n",
    "import matplotlib.pyplot as plt\n",
    "import numpy as np\n",
    "import pandas as pd\n",
    "import glob\n"
   ]
  },
  {
   "cell_type": "code",
   "execution_count": null,
   "metadata": {},
   "outputs": [],
   "source": [
    "\n",
    "\n",
    "# Set the parse_rate equal to the tick rate at which you would like to parse the frames of the demo.\n",
    "# This parameter only matters if parse_frames=True ()\n",
    "# For reference, MM demos are usually 64 ticks, and pro/FACEIT demos are usually 128 ticks.\n",
    "def parse_folder(folderpath: str, parserate=64):\n",
    "    \n",
    "    ### initialize demo parser\n",
    "    demo_parser = DemoParser(demofile=\"\", demo_id=\"\", parse_rate=parserate)\n",
    "\n",
    "    ### gathering all demos in folder\n",
    "    myfiles = [i for i in glob.glob(pathname=folderpath+\"\\*.dem\")]\n",
    "\n",
    "    ### parsing each demo in folder\n",
    "    for n, file in enumerate(myfiles):\n",
    "        demo_parser.demofile = file\n",
    "        demo_parser.demo_id = \"game\"+str(n)\n",
    "        data = demo_parser.parse()\n",
    "        print(demo_parser.demofile, data[\"tickRate\"])\n",
    "        \n",
    "# Input the path to the folder with your demos\n",
    "parse_folder(\"Folder with demos\")"
   ]
  },
  {
   "cell_type": "code",
   "execution_count": null,
   "metadata": {
    "scrolled": true
   },
   "outputs": [],
   "source": [
    "\n",
    "# initialize demo parser\n",
    "demo_parser = DemoParser(demo_id=\"eg\", parse_rate=64)\n",
    "\n",
    "# create array of all rounds\n",
    "allRounds = []\n",
    "\n",
    "### get all jsons in folder and add all rounds of the game to allRounds\n",
    "for i in glob.glob(\"*.json\"):\n",
    "    tempdata = demo_parser.read_json(i)\n",
    "    for n, j in enumerate(tempdata[\"gameRounds\"]):\n",
    "        tempdata[\"gameRounds\"][n][\"tickRate\"] = tempdata[\"tickRate\"]\n",
    "        tempdata[\"gameRounds\"][n][\"map\"] = tempdata[\"mapName\"]\n",
    "    allRounds.extend(tempdata[\"gameRounds\"])\n",
    "\n",
    "\n",
    "### encoding winner within every frame\n",
    "for ground in allRounds:\n",
    "    for n, i in enumerate(ground[\"frames\"]):\n",
    "        i[\"winner\"] = ground[\"winningSide\"]\n",
    "        i[\"seconds\"] = (i[\"tick\"] - ground[\"startTick\"]) / ground[\"tickRate\"]\n",
    "        i[\"secondsLeft\"] = (ground[\"endTick\"] - i[\"tick\"]) / ground[\"tickRate\"]\n",
    "        #print(\"Appending tick\", i[\"tick\"])\n",
    "        ground[\"frames\"][n] = i\n",
    "\n"
   ]
  },
  {
   "cell_type": "code",
   "execution_count": 11,
   "metadata": {},
   "outputs": [],
   "source": [
    "# method for returning the sum of an attribute from each player\n",
    "def sum_attribute(players: list, atrb: str):\n",
    "    return sum(i[atrb] for i in players)\n",
    "\n",
    "# returns the total number of the specified weapon in a player list / team\n",
    "def sum_weapons(players: list, wpn: str):\n",
    "    return sum([i[\"weaponName\"]==wpn for j in [k[\"inventory\"] if k[\"inventory\"] != None else [] for k in players ] for i in j])\n",
    "\n",
    "# prints weapons in the team\n",
    "def print_weapons(players: list):\n",
    "    return [i[\"weaponName\"] for j in [k[\"inventory\"] for k in players] for i in j]\n",
    "\n",
    "# returns an array of dictionaries of the total number of each weapon for both teams\n",
    "def return_team_inv(ctplayers: list, tplayers: list):\n",
    "    wpsCode = [\"ak47\", \"aug\", \"awp\", \"bizon\", \"cz75auto\", \"elite\", \"famas\", \"g3sg1\", \"galilar\", \"glock\", \"m249\", \"m4a1s\", \"m4a4\", \"mac10\", \"mag7\", \"mp5sd\", \"mp7\", \"mp9\", \"negev\", \"nova\", \"p90\", \"r8revolver\", \"sawedoff\", \"scar20\", \"sg553\", \"ssg08\", \"ump45\", \"xm1014\", \"deagle\", \"fiveseven\", \"usps\", \"p250\", \"p2000\", \"tec9\"]\n",
    "    wpsName = [\"AK-47\", \"AUG\", \"AWP\", \"PP-Bizon\", \"CZ75-Auto\", \"Dual Berettas\", \"FAMAS\", \"G3SG1\", \"Galil AR\", \"Glock-18\", \"M249\", \"M4A1\", \"M4A4\", \"MAC-10\", \"MAG-7\", \"MP5-SD\", \"MP7\", \"MP9\", \"Negev\", \"Nova\", \"P90\", \"R8 Revolver\", \"Sawed-off\", \"SCAR-20\", \"SG 553\", \"ssg 08\", \"UMP-45\", \"XM1014\", \"Desert Eagle\", \"Five-SeveN\", \"USP-S\", \"P250\", \"P2000\", \"Tec-9\"]\n",
    "    grnCode = [\"hegrenade\", \"flashbang\", \"smokegrenade\", \"incendiarygrenade\", \"molotovgrenade\", \"decoygrenade\"]\n",
    "    grnName = [\"HE Grenade\", \"Flashbang\", \"Smoke Grenade\", \"Incendiary Grenade\", \"Molotov\", \"Decoy\"]\n",
    "    invSum = {}\n",
    "    \n",
    "    for n, i in enumerate(wpsCode):\n",
    "        invSum[\"ct_weapon_\"+i] = sum_weapons(ctplayers, wpsName[n])\n",
    "        invSum[\"t_weapon_\"+i] = sum_weapons(tplayers, wpsName[n])\n",
    "        \n",
    "    for n, i in enumerate(grnCode):\n",
    "        invSum['ct_grenade_'+i] = sum_weapons(ctplayers, grnName[n])\n",
    "        invSum['t_grenade_'+i] = sum_weapons(tplayers, grnName[n])\n",
    "    return invSum\n",
    "        \n",
    "        "
   ]
  },
  {
   "cell_type": "code",
   "execution_count": 12,
   "metadata": {},
   "outputs": [
    {
     "data": {
      "text/plain": [
       "de_mirage    0.835645\n",
       "de_dust2     0.164355\n",
       "Name: map, dtype: float64"
      ]
     },
     "execution_count": 12,
     "metadata": {},
     "output_type": "execute_result"
    }
   ],
   "source": [
    "%matplotlib inline\n",
    "\n",
    "### returns array of dicts (features), to be used with the AWPY module\n",
    "def get_features(data: list, roundStart: int, roundEnd: int):\n",
    "    samples = []\n",
    "    for i in range(roundStart, roundEnd):\n",
    "        roundData = data[i] ### get current round data\n",
    "        #print(\"round \"+ str(i))\n",
    "        for frame in roundData[\"frames\"]:\n",
    "            if frame['secondsLeft'] < 0: continue\n",
    "            state = generate_game_state(frame) ### generates a simplified dict of data we can use\n",
    "            ct, t = state['ct'], state['t']\n",
    "            ctp, tp = frame['ct']['players'], frame['t']['players']\n",
    "\n",
    "            ### Dictionary used for more AWPY-like features\n",
    "            #Newfeatures = {   \n",
    "            #    \"tEqVal\": t['eqVal'],\n",
    "            #    \"ctEqVal\": ct['eqVal'],\n",
    "            #    \"tHp\": t['hp'],\n",
    "            #    \"ctHp\": ct['hp'],\n",
    "            #    \"tRem\": t['playersRemaining'],\n",
    "            #    \"ctRem\": ct['playersRemaining'],\n",
    "            #    \"bombsite\": state['global']['bombsite'],\n",
    "            #    \"bombPlanted\": True if state['global']['bombsite'] != \"\" else False, \n",
    "            #    \"seconds\": frame[\"seconds\"],\n",
    "            #    \"scoreDiff\": roundData[\"tScore\"] - roundData[\"ctScore\"],\n",
    "            #    \"winner\": frame[\"winner\"],\n",
    "            #}\n",
    "            datasetFeatures = {\n",
    "                \"time_left\": frame[\"secondsLeft\"],\n",
    "                \"ct_score\": roundData['ctScore'],\n",
    "                \"t_score\": roundData['tScore'],\n",
    "                \"map\": roundData['map'],\n",
    "                \"bomb_planted\": True if state['global']['bombsite'] != \"\" else False, \n",
    "                \"ct_health\": state['ct']['hp'],\n",
    "                \"t_health\": state['t']['hp'],\n",
    "                \"ct_armor\": sum_attribute(ctp, \"armor\"),\n",
    "                \"t_armor\": sum_attribute(tp, \"armor\"),\n",
    "                \"ct_money\": sum_attribute(ctp, \"cash\"),\n",
    "                \"t_money\": sum_attribute(tp, \"cash\"),\n",
    "                \"ct_helmets\": sum_attribute(ctp, \"hasHelmet\"),\n",
    "                \"t_helmets\": sum_attribute(tp, \"hasHelmet\"),\n",
    "                \"ct_defuse_kits\": sum_attribute(ctp, \"hasDefuse\"),\n",
    "                \"ct_players_alive\": t['playersRemaining'],\n",
    "                \"t_players_alive\": ct['playersRemaining']\n",
    "            }\n",
    "            datasetFeatures.update(return_team_inv(ctp, tp))\n",
    "            datasetFeatures[\"round_winner\"] = frame[\"winner\"]\n",
    "            samples.append(datasetFeatures)\n",
    "    return samples\n",
    "    \n",
    "\n",
    "samples = get_features(allRounds, 0, len(allRounds))\n",
    "\n",
    "### turn list of dicts into a dataframe\n",
    "samples = pd.DataFrame(samples)\n",
    "samples[\"map\"].value_counts(normalize=True)\n"
   ]
  },
  {
   "cell_type": "code",
   "execution_count": 6,
   "metadata": {},
   "outputs": [
    {
     "data": {
      "text/plain": [
       "(54578, 97)"
      ]
     },
     "execution_count": 6,
     "metadata": {},
     "output_type": "execute_result"
    }
   ],
   "source": [
    "samples.shape"
   ]
  },
  {
   "cell_type": "code",
   "execution_count": 13,
   "metadata": {},
   "outputs": [],
   "source": [
    "# output converted data\n",
    "samples.to_csv(\"custom.csv\", index=False)"
   ]
  }
 ],
 "metadata": {
  "interpreter": {
   "hash": "6c9b5f2fc96e180b8a5a8a696d3f7e4165240dee36d2141e31628b5fa32cbf6e"
  },
  "kernelspec": {
   "display_name": "Python 3.8.5 ('base')",
   "language": "python",
   "name": "python3"
  },
  "language_info": {
   "codemirror_mode": {
    "name": "ipython",
    "version": 3
   },
   "file_extension": ".py",
   "mimetype": "text/x-python",
   "name": "python",
   "nbconvert_exporter": "python",
   "pygments_lexer": "ipython3",
   "version": "3.8.5"
  }
 },
 "nbformat": 4,
 "nbformat_minor": 4
}
